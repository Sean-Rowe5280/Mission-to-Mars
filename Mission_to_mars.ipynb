{
 "cells": [
  {
   "cell_type": "markdown",
   "id": "d9b564ff",
   "metadata": {},
   "source": [
    "# Scrape Mars Data(10.3.3)\n",
    "\n",
    "https://redplanetscience.com/"
   ]
  },
  {
   "cell_type": "code",
   "execution_count": 28,
   "id": "0fd4ac9e",
   "metadata": {},
   "outputs": [],
   "source": [
    "# Import Splinter and \n",
    "\n",
    "from splinter import Browser\n",
    "from bs4 import BeautifulSoup as soup\n",
    "from webdriver_manager.chrome import ChromeDriverManager\n",
    "\n",
    "# Import Pandas(10.3.5)\n",
    "\n",
    "import pandas as pd"
   ]
  },
  {
   "cell_type": "code",
   "execution_count": 2,
   "id": "8b451179",
   "metadata": {},
   "outputs": [],
   "source": [
    "executable_path={\"executable_path\":ChromeDriverManager().install()}\n",
    "browser=Browser(\"chrome\",**executable_path, headless=False)"
   ]
  },
  {
   "cell_type": "code",
   "execution_count": 3,
   "id": "311dd1c8",
   "metadata": {},
   "outputs": [
    {
     "data": {
      "text/plain": [
       "True"
      ]
     },
     "execution_count": 3,
     "metadata": {},
     "output_type": "execute_result"
    }
   ],
   "source": [
    "# Visit the mars nasa news site\n",
    "# Assign the url and instruct the browser to visit it.\n",
    "\n",
    "url=\"https://redplanetscience.com/\"\n",
    "browser.visit(url)  # this code will take control of the browser using automated software and take you to the website.\n",
    "\n",
    "# Optional delay for loading the page\n",
    "\n",
    "browser.is_element_present_by_css('div.list_text', wait_time=1)\n",
    "\n",
    "    # We are accomplishing two things:\n",
    "    \n",
    "        # we're searching for elements with a specific combination of tag (div) and attribute (list_text)\n",
    "            # example, ul.item_list would be found in HTML as <ul class=\"item_list\">.\n",
    "            \n",
    "        # optional delay is useful because sometimes dynamic pages take a little while to load, especially if they are image-heavy."
   ]
  },
  {
   "cell_type": "code",
   "execution_count": 13,
   "id": "f4d15e7f",
   "metadata": {},
   "outputs": [],
   "source": [
    "# Parse HTML using BeautifulSoup\n",
    "    # Turn browser into HTML object and Parse object with soup\n",
    "\n",
    "html = browser.html\n",
    "news_soup = soup(html, 'html.parser')\n",
    "slide_elem = news_soup.select_one('div.list_text')\n",
    "\n",
    "    # slide_elem as the variable to look for the <div /> tag and its descendent (the other tags within the <div /> element)? This is our parent element\n",
    "    \n",
    "    # The . is used for selecting classes, such as list_text, so the code 'div.list_text' pinpoints the <div /> tag with the class of list_text. \n",
    "    \n",
    "    # CSS works from right to left, such as returning the last item on the list instead of the first\n",
    "        # when using select_one, the first matching element returned will be a <li /> element with a class of slide and all nested elements within it."
   ]
  },
  {
   "cell_type": "code",
   "execution_count": 14,
   "id": "29de5990",
   "metadata": {},
   "outputs": [
    {
     "data": {
      "text/plain": [
       "<div class=\"list_text\">\n",
       "<div class=\"list_date\">August 17, 2022</div>\n",
       "<div class=\"content_title\">Air Deliveries Bring NASA's Perseverance Mars Rover Closer to Launch</div>\n",
       "<div class=\"article_teaser_body\">A NASA Wallops Flight Facility cargo plane transported more than two tons of equipment — including the rover's sample collection tubes — to Florida for this summer's liftoff.</div>\n",
       "</div>"
      ]
     },
     "execution_count": 14,
     "metadata": {},
     "output_type": "execute_result"
    }
   ],
   "source": [
    "slide_elem"
   ]
  },
  {
   "cell_type": "code",
   "execution_count": 15,
   "id": "73e02f4b",
   "metadata": {},
   "outputs": [
    {
     "data": {
      "text/plain": [
       "<div class=\"content_title\">Air Deliveries Bring NASA's Perseverance Mars Rover Closer to Launch</div>"
      ]
     },
     "execution_count": 15,
     "metadata": {},
     "output_type": "execute_result"
    }
   ],
   "source": [
    "# Find Title for the first article\n",
    "\n",
    "slide_elem.find('div', class_='content_title')\n",
    "\n",
    "# The title is in that mix of HTML in our output: \n",
    "    # Use get_text() method to find just the title"
   ]
  },
  {
   "cell_type": "code",
   "execution_count": 16,
   "id": "9644f83b",
   "metadata": {},
   "outputs": [
    {
     "data": {
      "text/plain": [
       "\"Air Deliveries Bring NASA's Perseverance Mars Rover Closer to Launch\""
      ]
     },
     "execution_count": 16,
     "metadata": {},
     "output_type": "execute_result"
    }
   ],
   "source": [
    "# Find Title for the first article and pull out just the text\n",
    "# Use the parent element to find the first `a` tag and save it as `news_title`\n",
    "\n",
    "news_title=slide_elem.find('div', class_='content_title').get_text()\n",
    "news_title"
   ]
  },
  {
   "cell_type": "code",
   "execution_count": 17,
   "id": "008ad291",
   "metadata": {},
   "outputs": [
    {
     "data": {
      "text/plain": [
       "\"A NASA Wallops Flight Facility cargo plane transported more than two tons of equipment — including the rover's sample collection tubes — to Florida for this summer's liftoff.\""
      ]
     },
     "execution_count": 17,
     "metadata": {},
     "output_type": "execute_result"
    }
   ],
   "source": [
    "# Use the parent element to find the paragraph text\n",
    "news_p = slide_elem.find('div', class_='article_teaser_body').get_text()\n",
    "news_p"
   ]
  },
  {
   "cell_type": "markdown",
   "id": "97ffbc7a",
   "metadata": {},
   "source": [
    "# Jet Propulsion Laboratory's(10.3.4)\n",
    "\n",
    "https://spaceimages-mars.com"
   ]
  },
  {
   "cell_type": "markdown",
   "id": "701ecba9",
   "metadata": {},
   "source": [
    "### Featured Images"
   ]
  },
  {
   "cell_type": "code",
   "execution_count": 18,
   "id": "91dbb3f7",
   "metadata": {},
   "outputs": [],
   "source": [
    "# Visit URL\n",
    "\n",
    "url = 'https://spaceimages-mars.com'\n",
    "browser.visit(url)"
   ]
  },
  {
   "cell_type": "code",
   "execution_count": 24,
   "id": "e7fd686e",
   "metadata": {},
   "outputs": [],
   "source": [
    "# Find and click the full image button\n",
    "full_image_elem = browser.find_by_tag('button')[1]\n",
    "full_image_elem.click()\n",
    "\n",
    "# Notice the indexing chained at the end of the first line of code? \n",
    "    # With this, we've stipulated that we want our browser to click the second button.\n",
    "    \n",
    "# The automated browser should automatically \"click\" the button and change the view to a slideshow of images"
   ]
  },
  {
   "cell_type": "code",
   "execution_count": null,
   "id": "2c4568ae",
   "metadata": {},
   "outputs": [],
   "source": [
    "# Click the More Info button to get to the next page.\n",
    "    # Let's look at the DevTools again to see what elements we can use for our scraping."
   ]
  },
  {
   "cell_type": "code",
   "execution_count": 25,
   "id": "871dd785",
   "metadata": {},
   "outputs": [],
   "source": [
    "# Parse the resulting html with soup\n",
    "html = browser.html\n",
    "img_soup = soup(html, 'html.parser')"
   ]
  },
  {
   "cell_type": "code",
   "execution_count": 26,
   "id": "84953a50",
   "metadata": {},
   "outputs": [
    {
     "data": {
      "text/plain": [
       "'image/featured/mars2.jpg'"
      ]
     },
     "execution_count": 26,
     "metadata": {},
     "output_type": "execute_result"
    }
   ],
   "source": [
    "# Find the relative image url\n",
    "img_url_rel = img_soup.find('img', class_='fancybox-image').get('src')\n",
    "img_url_rel\n",
    "\n",
    "# We've done a lot with that single line.\n",
    "\n",
    "#Let's break it down:\n",
    "\n",
    "    # An img tag is nested within this HTML, so we've included it.\n",
    "    # .get('src') pulls the link to the image."
   ]
  },
  {
   "cell_type": "markdown",
   "id": "00d92b65",
   "metadata": {},
   "source": [
    "- What we've done here is tell BeautifulSoup to look inside the <img /> tag for an image with a class of fancybox-image. Basically we're saying, \"This is where the image we want lives—use the link that's inside these tags.\"\n",
    "\n",
    "- We were able to pull the link to the image by pointing BeautifulSoup to where the image will be, instead of grabbing the URL directly. This way, when JPL updates its image page, our code will still pull the most recent image.\n",
    "\n",
    "- But if we copy and paste this link into a browser, it won't work. This is because it's only a partial link, as the base URL isn't included. If we look at our address bar in the webpage, we can see the entire URL up there already; we just need to add the first portion to our app."
   ]
  },
  {
   "cell_type": "code",
   "execution_count": 27,
   "id": "49509c32",
   "metadata": {},
   "outputs": [
    {
     "data": {
      "text/plain": [
       "'https://spaceimages-mars.com/image/featured/mars2.jpg'"
      ]
     },
     "execution_count": 27,
     "metadata": {},
     "output_type": "execute_result"
    }
   ],
   "source": [
    "# Use the base URL to create an absolute URL\n",
    "img_url = f'https://spaceimages-mars.com/{img_url_rel}'\n",
    "img_url\n"
   ]
  },
  {
   "cell_type": "markdown",
   "id": "3a8c342a",
   "metadata": {},
   "source": [
    "- We're using an f-string for this print statement because it's a cleaner way to create print statements; they're also evaluated at run-time. This means that it, and the variable it holds, doesn't exist until the code is executed and the values are not constant. This works well for our scraping app because the data we're scraping is live and will be updated frequently."
   ]
  },
  {
   "cell_type": "markdown",
   "id": "bb0d6ffd",
   "metadata": {},
   "source": [
    "# Mars Facts(10.3.5)\n",
    "\n",
    "https://galaxyfacts-mars.com/\n",
    "\n",
    "- The next bit of information Robin wants to have included in her app is a collection of Mars facts. With news articles and high-quality images, a collection of facts is a solid addition to her web app.\n",
    "\n",
    "- Robin already has a great photo and an article, so all she wants from this page is the table. \n",
    "\n",
    "- plan is to display it as a table on her own web app, so **keeping the current HTML table format** is important."
   ]
  },
  {
   "cell_type": "code",
   "execution_count": 29,
   "id": "4d4d9506",
   "metadata": {},
   "outputs": [
    {
     "data": {
      "text/html": [
       "<div>\n",
       "<style scoped>\n",
       "    .dataframe tbody tr th:only-of-type {\n",
       "        vertical-align: middle;\n",
       "    }\n",
       "\n",
       "    .dataframe tbody tr th {\n",
       "        vertical-align: top;\n",
       "    }\n",
       "\n",
       "    .dataframe thead th {\n",
       "        text-align: right;\n",
       "    }\n",
       "</style>\n",
       "<table border=\"1\" class=\"dataframe\">\n",
       "  <thead>\n",
       "    <tr style=\"text-align: right;\">\n",
       "      <th></th>\n",
       "      <th>Mars</th>\n",
       "      <th>Earth</th>\n",
       "    </tr>\n",
       "    <tr>\n",
       "      <th>description</th>\n",
       "      <th></th>\n",
       "      <th></th>\n",
       "    </tr>\n",
       "  </thead>\n",
       "  <tbody>\n",
       "    <tr>\n",
       "      <th>Mars - Earth Comparison</th>\n",
       "      <td>Mars</td>\n",
       "      <td>Earth</td>\n",
       "    </tr>\n",
       "    <tr>\n",
       "      <th>Diameter:</th>\n",
       "      <td>6,779 km</td>\n",
       "      <td>12,742 km</td>\n",
       "    </tr>\n",
       "    <tr>\n",
       "      <th>Mass:</th>\n",
       "      <td>6.39 × 10^23 kg</td>\n",
       "      <td>5.97 × 10^24 kg</td>\n",
       "    </tr>\n",
       "    <tr>\n",
       "      <th>Moons:</th>\n",
       "      <td>2</td>\n",
       "      <td>1</td>\n",
       "    </tr>\n",
       "    <tr>\n",
       "      <th>Distance from Sun:</th>\n",
       "      <td>227,943,824 km</td>\n",
       "      <td>149,598,262 km</td>\n",
       "    </tr>\n",
       "    <tr>\n",
       "      <th>Length of Year:</th>\n",
       "      <td>687 Earth days</td>\n",
       "      <td>365.24 days</td>\n",
       "    </tr>\n",
       "    <tr>\n",
       "      <th>Temperature:</th>\n",
       "      <td>-87 to -5 °C</td>\n",
       "      <td>-88 to 58°C</td>\n",
       "    </tr>\n",
       "  </tbody>\n",
       "</table>\n",
       "</div>"
      ],
      "text/plain": [
       "                                    Mars            Earth\n",
       "description                                              \n",
       "Mars - Earth Comparison             Mars            Earth\n",
       "Diameter:                       6,779 km        12,742 km\n",
       "Mass:                    6.39 × 10^23 kg  5.97 × 10^24 kg\n",
       "Moons:                                 2                1\n",
       "Distance from Sun:        227,943,824 km   149,598,262 km\n",
       "Length of Year:           687 Earth days      365.24 days\n",
       "Temperature:                -87 to -5 °C      -88 to 58°C"
      ]
     },
     "execution_count": 29,
     "metadata": {},
     "output_type": "execute_result"
    }
   ],
   "source": [
    "# Import Pandas(10.3.5)-Added to top\n",
    "\n",
    "# Create a new DataFrame from the HTML table\n",
    "\n",
    "df = pd.read_html('https://galaxyfacts-mars.com')[0]\n",
    "df.columns=['description', 'Mars', 'Earth']\n",
    "df.set_index('description', inplace=True)\n",
    "df"
   ]
  },
  {
   "cell_type": "markdown",
   "id": "6b2c262f",
   "metadata": {},
   "source": [
    "Now let's break it down:\n",
    "\n",
    "- df = pd.read_htmldf = pd.read_html('https://galaxyfacts-mars.com')[0] With this line, we're creating a new DataFrame from the HTML table. \n",
    "    - The Pandas function read_html() **specifically searches for and returns a list of tables** found in the HTML. \n",
    "    - By specifying an index of 0, we're telling Pandas to pull only the first table it encounters, or the first item in the list. Then, it turns the table into a DataFrame.\n",
    "\n",
    "- df.columns=['description', 'Mars', 'Earth'] Here, we assign columns to the new DataFrame for additional clarity.\n",
    "\n",
    "- df.set_index('description', inplace=True) By using the .set_index() function, we're turning the Description column into the DataFrame's index. inplace=True means that the updated index will remain in place, without having to reassign the DataFrame to a new variable."
   ]
  },
  {
   "cell_type": "markdown",
   "id": "88588a46",
   "metadata": {},
   "source": [
    "- How do we add the DataFrame to a web application?\n",
    "    - **Pandas** also has a way to **easily convert our DataFrame back into HTML-ready code** using the **.to_html()**\n",
    "\n",
    "- web app is going to be an actual webpage. Our data is live—if the table is updated, then we want that change to appear in Robin's app also."
   ]
  },
  {
   "cell_type": "code",
   "execution_count": 30,
   "id": "778aba60",
   "metadata": {},
   "outputs": [
    {
     "data": {
      "text/plain": [
       "'<table border=\"1\" class=\"dataframe\">\\n  <thead>\\n    <tr style=\"text-align: right;\">\\n      <th></th>\\n      <th>Mars</th>\\n      <th>Earth</th>\\n    </tr>\\n    <tr>\\n      <th>description</th>\\n      <th></th>\\n      <th></th>\\n    </tr>\\n  </thead>\\n  <tbody>\\n    <tr>\\n      <th>Mars - Earth Comparison</th>\\n      <td>Mars</td>\\n      <td>Earth</td>\\n    </tr>\\n    <tr>\\n      <th>Diameter:</th>\\n      <td>6,779 km</td>\\n      <td>12,742 km</td>\\n    </tr>\\n    <tr>\\n      <th>Mass:</th>\\n      <td>6.39 × 10^23 kg</td>\\n      <td>5.97 × 10^24 kg</td>\\n    </tr>\\n    <tr>\\n      <th>Moons:</th>\\n      <td>2</td>\\n      <td>1</td>\\n    </tr>\\n    <tr>\\n      <th>Distance from Sun:</th>\\n      <td>227,943,824 km</td>\\n      <td>149,598,262 km</td>\\n    </tr>\\n    <tr>\\n      <th>Length of Year:</th>\\n      <td>687 Earth days</td>\\n      <td>365.24 days</td>\\n    </tr>\\n    <tr>\\n      <th>Temperature:</th>\\n      <td>-87 to -5 °C</td>\\n      <td>-88 to 58°C</td>\\n    </tr>\\n  </tbody>\\n</table>'"
      ]
     },
     "execution_count": 30,
     "metadata": {},
     "output_type": "execute_result"
    }
   ],
   "source": [
    "# Use Pandas to convert our DataFrame back into HTML-ready code\n",
    "\n",
    "df.to_html()\n",
    "\n",
    "# Below is a <table /> element with a lot of nested elements. \n",
    "# This means success. After adding this exact block of code to Robin's web app, the data it's storing will be presented in an easy-to-read tabular format."
   ]
  },
  {
   "cell_type": "markdown",
   "id": "ae083364",
   "metadata": {},
   "source": [
    "#### End the automated browsing session\n",
    "\n",
    "- We really only want the automated browser to remain active while we're scraping data. It's like turning off a light switch when you're ready to leave the room or home."
   ]
  },
  {
   "cell_type": "code",
   "execution_count": 31,
   "id": "61ec1284",
   "metadata": {},
   "outputs": [],
   "source": [
    "# End the automated browsing session\n",
    "\n",
    "browser.quit()"
   ]
  },
  {
   "cell_type": "markdown",
   "id": "35ea528f",
   "metadata": {},
   "source": [
    "#### IMPORTANT\n",
    "\n",
    "- Live sites are a great resource for fresh data, but the layout of the site may be updated or otherwise changed. When this happens, there's a good chance your scraping code will break and need to be reviewed and updated to be used again.\n",
    "\n",
    "- For example, an image may suddenly become embedded within an inaccessible block of code because the developers switched to a new JavaScript library. **It's not uncommon to revise code to find workarounds or even look for a different, scraping-friendly site all together.**"
   ]
  },
  {
   "cell_type": "markdown",
   "id": "37cf5b32",
   "metadata": {},
   "source": [
    "# Export to Python\n",
    "\n",
    "- Jupyter is great, each chunk can be tested and ran independently but we can't automate the scraping using the Jupyter Notebook. To fully automate it, it will need to be converted into a .py file.\n",
    "\n",
    "- The next step in making this an automated process is to download the current code into a Python file. It won't transition over perfectly, we'll need to clean it up a bit, but it's an easier task than copying each cell and pasting it over in the correct order.\n"
   ]
  },
  {
   "cell_type": "markdown",
   "id": "64036d3d",
   "metadata": {},
   "source": [
    "#### Important Feature of the Jupyter ecosystem is **being able to download the notebook into different formats.**\n",
    "\n",
    "There are several formats available, but we'll focus on one by downloading to a Python file.\n",
    "\n",
    "1. While your notebook is open, navigate to the top of the page to the Files tab."
   ]
  }
 ],
 "metadata": {
  "kernelspec": {
   "display_name": "PythonData1",
   "language": "python",
   "name": "pythondata1"
  },
  "language_info": {
   "codemirror_mode": {
    "name": "ipython",
    "version": 3
   },
   "file_extension": ".py",
   "mimetype": "text/x-python",
   "name": "python",
   "nbconvert_exporter": "python",
   "pygments_lexer": "ipython3",
   "version": "3.7.13"
  }
 },
 "nbformat": 4,
 "nbformat_minor": 5
}
